{
 "cells": [
  {
   "cell_type": "code",
   "execution_count": 1,
   "metadata": {
    "collapsed": false
   },
   "outputs": [],
   "source": [
    "import numpy as np\n",
    "from human_moveit_config.human_model import HumanModel\n",
    "import transformations\n",
    "import timeit\n",
    "import rospy\n",
    "import time\n",
    "from scipy.spatial import cKDTree\n",
    "from copy import deepcopy\n",
    "import tf\n",
    "import time"
   ]
  },
  {
   "cell_type": "code",
   "execution_count": 2,
   "metadata": {
    "collapsed": false
   },
   "outputs": [],
   "source": [
    "def create_database(link, base, joint_names, nb_points=1):\n",
    "    X = []\n",
    "    for i in range(nb_points):\n",
    "        state = human.get_random_state()\n",
    "        fk = human.forward_kinematic(state, links=link, base=base)\n",
    "        joints = []\n",
    "        for j in joint_names:\n",
    "            joints.append(state.position[state.name.index(j)])\n",
    "        # append quaternion in both hemispheres\n",
    "        for i in range(2):\n",
    "            x = deepcopy(joints)\n",
    "            x += fk[link][0]\n",
    "            x += ((-1)**i * np.array(fk[link][1]) / 40).tolist()\n",
    "        X.append(x)\n",
    "    names = deepcopy(joint_names)\n",
    "    names += [link + '_x', link + '_y', link + '_z']\n",
    "    names += [link + '_qx', link + '_qy', link + '_qz', link + '_qw']\n",
    "    np.savez_compressed('/tmp/database_' + link, names=names, data=X)"
   ]
  },
  {
   "cell_type": "code",
   "execution_count": 3,
   "metadata": {
    "collapsed": false
   },
   "outputs": [],
   "source": [
    "rospy.init_node('test')"
   ]
  },
  {
   "cell_type": "code",
   "execution_count": 4,
   "metadata": {
    "collapsed": false
   },
   "outputs": [],
   "source": [
    "human = HumanModel()"
   ]
  },
  {
   "cell_type": "code",
   "execution_count": 5,
   "metadata": {
    "collapsed": false
   },
   "outputs": [],
   "source": [
    "links = ['shoulder_center', 'head', 'left_elbow', 'left_hand', 'right_elbow', 'right_hand']\n",
    "bases = ['base', 'shoulder_center', 'shoulder_center', 'left_elbow', 'shoulder_center', 'right_elbow']\n",
    "joint_by_links = {}\n",
    "for l in links:\n",
    "    joint_by_links[l] = human.joint_by_links[l]\n",
    "for s in ['right', 'left']:\n",
    "    joint_by_links[s + '_elbow'] = human.joint_by_links[s + '_shoulder'] + joint_by_links[s + '_elbow']"
   ]
  },
  {
   "cell_type": "code",
   "execution_count": null,
   "metadata": {
    "collapsed": false
   },
   "outputs": [],
   "source": [
    "nb_points = 10000\n",
    "for i in range(len(links)):\n",
    "    create_database(links[i], bases[i], joint_by_links[links[i]], nb_points=nb_points)"
   ]
  },
  {
   "cell_type": "code",
   "execution_count": null,
   "metadata": {
    "collapsed": true
   },
   "outputs": [],
   "source": [
    "test_links = ['shoulder_center', 'head']"
   ]
  },
  {
   "cell_type": "code",
   "execution_count": null,
   "metadata": {
    "collapsed": false
   },
   "outputs": [],
   "source": [
    "state = human.get_random_state()\n",
    "fk_dict = {}\n",
    "for t in test_links:\n",
    "    fk_dict.update(human.forward_kinematic(state, links=t, base=bases[links.index(t)]))"
   ]
  },
  {
   "cell_type": "code",
   "execution_count": null,
   "metadata": {
    "collapsed": false
   },
   "outputs": [],
   "source": [
    "avg_time = 0\n",
    "avg_prec = 0\n",
    "for i in range(100):\n",
    "    state = human.get_random_state()\n",
    "    fk_test = human.forward_kinematic(state, links=links)\n",
    "    start = time.time()\n",
    "    ik = human.inverse_kinematic(fk_test)\n",
    "    avg_time += (time.time() - start)\n",
    "    ik_res = human.forward_kinematic(ik, links=links)\n",
    "    for l in links:\n",
    "        avg_prec += np.linalg.norm(np.array(fk_test[l][0]) - np.array(ik_res[l][0]))\n",
    "        avg_prec += np.linalg.norm(np.array(fk_test[l][1]) - np.array(ik_res[l][1]))\n",
    "avg_time /= 100\n",
    "avg_prec /= (100 * len(links))\n",
    "\n",
    "print 'time: ' + str(avg_time)\n",
    "print 'precision: ' + str(avg_prec)"
   ]
  },
  {
   "cell_type": "code",
   "execution_count": 77,
   "metadata": {
    "collapsed": false
   },
   "outputs": [
    {
     "name": "stdout",
     "output_type": "stream",
     "text": [
      "shoulder_center\n",
      "[[-0.20657746636609242, -0.17522952733381025, 0.10219529564600921], [0.31821587043255317, -0.5942002646097582, 0.1552925992674402, 0.7221834351155585]]\n",
      "-------------\n",
      "[[-0.20657774894649125, -0.17522899097549322, 0.102196728998494], [0.31821484510419407, -0.5941985967691388, 0.15529152117662726, 0.7221854909949031]]\n",
      "##############\n",
      "head\n",
      "[[-0.33610416574944746, -0.3350122014842269, 0.2794845901200669], [0.21254337189060588, -0.14515443053274124, 0.13596927138664658, 0.95669632778676]]\n",
      "-------------\n",
      "[[-0.33610382125868044, -0.3350108641423042, 0.2794871134641955], [0.21254221464855408, -0.14515178340902865, 0.13596781963623558, 0.9566971928404695]]\n",
      "##############\n",
      "left_elbow\n",
      "[[-0.4037388168726546, 0.1639357129798552, 0.36726864583852126], [-0.5706961273984278, -0.6809520984530736, 0.02855467964770495, 0.45803362328000535]]\n",
      "-------------\n",
      "[[-0.40373691784457494, 0.16393725028743747, 0.3672704211293285], [-0.5706972317135917, -0.6809500990768549, 0.028556139760444597, 0.4580351287441241]]\n",
      "##############\n",
      "left_hand\n",
      "[[-0.33346472423313056, 0.41380796334170544, 0.6067454831805107], [-0.571976523652772, -0.46793957351423193, -0.1601680361408828, 0.6543864394439889]]\n",
      "-------------\n",
      "[[-0.33346087814894176, 0.41380965504051376, 0.6067465248061131], [-0.5719780072124799, -0.46793716282046266, -0.16016697611479666, 0.6543871260034216]]\n",
      "##############\n",
      "right_elbow\n",
      "[[-0.1935028989483851, -0.5934367411653703, 0.0796412973177182], [0.3690819162389048, 0.16820143453740272, 0.5885094016909154, 0.6993879471697941]]\n",
      "-------------\n",
      "[[-0.1935042831793906, -0.5934362812642059, 0.07964350978886263], [0.3690829415515658, 0.1682034218931203, 0.5885074452222147, 0.6993885744256267]]\n",
      "##############\n",
      "right_hand\n",
      "[[-0.15319811120016935, -0.2426172348411527, 0.15078084721693283], [0.2536329518942911, 0.2008021611271846, 0.7728173716623814, 0.545987296424458]]\n",
      "-------------\n",
      "[[-0.15319829445716987, -0.24261672307975696, 0.1507821311899654], [0.2536346406300153, 0.20080410223220788, 0.7728158421460728, 0.5459879629875151]]\n",
      "##############\n"
     ]
    }
   ],
   "source": [
    "state = human.get_random_state()\n",
    "fk_test = human.forward_kinematic(state, links=links)\n",
    "ik = human.inverse_kinematic(fk_test)\n",
    "test_link = links\n",
    "ground_truth = human.forward_kinematic(state, links=test_link)\n",
    "res_ik = human.forward_kinematic(ik, links=test_link)\n",
    "for l in test_link:\n",
    "    print l\n",
    "    print ground_truth[l]\n",
    "    print '-------------'\n",
    "    print res_ik[l]\n",
    "    print '##############'"
   ]
  },
  {
   "cell_type": "code",
   "execution_count": null,
   "metadata": {
    "collapsed": true
   },
   "outputs": [],
   "source": []
  }
 ],
 "metadata": {
  "kernelspec": {
   "display_name": "Python 2",
   "language": "python",
   "name": "python2"
  },
  "language_info": {
   "codemirror_mode": {
    "name": "ipython",
    "version": 2
   },
   "file_extension": ".py",
   "mimetype": "text/x-python",
   "name": "python",
   "nbconvert_exporter": "python",
   "pygments_lexer": "ipython2",
   "version": "2.7.6"
  }
 },
 "nbformat": 4,
 "nbformat_minor": 0
}
