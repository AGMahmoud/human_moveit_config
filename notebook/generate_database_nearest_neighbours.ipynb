{
 "cells": [
  {
   "cell_type": "code",
   "execution_count": 8,
   "metadata": {
    "collapsed": false
   },
   "outputs": [],
   "source": [
    "import numpy as np\n",
    "from human_moveit_config.human_model import HumanModel\n",
    "import transformations\n",
    "import timeit\n",
    "import rospy\n",
    "import time\n",
    "from scipy.spatial import cKDTree\n",
    "from copy import deepcopy\n",
    "import tf"
   ]
  },
  {
   "cell_type": "code",
   "execution_count": 51,
   "metadata": {
    "collapsed": false
   },
   "outputs": [],
   "source": [
    "def create_database(link, base, joint_names, nb_points=1):\n",
    "    X = []\n",
    "    for i in range(nb_points):\n",
    "        state = human.get_random_state()\n",
    "        human.send_state(state) \n",
    "        fk = human.forward_kinematic(state, links=link, base='/human/' + base)\n",
    "        x = []\n",
    "        for j in joint_names:\n",
    "            x.append(state.position[state.name.index(j)])\n",
    "        x += fk[link][0]\n",
    "        X.append(x)\n",
    "    names = deepcopy(state.name)\n",
    "    names += [link + '_x', link + '_y', link + '_z']\n",
    "    np.savez_compressed('/tmp/database_' + link, names=names, data=X)"
   ]
  },
  {
   "cell_type": "code",
   "execution_count": 3,
   "metadata": {
    "collapsed": true
   },
   "outputs": [],
   "source": [
    "rospy.init_node('test')"
   ]
  },
  {
   "cell_type": "code",
   "execution_count": 4,
   "metadata": {
    "collapsed": false
   },
   "outputs": [],
   "source": [
    "human = HumanModel()"
   ]
  },
  {
   "cell_type": "code",
   "execution_count": null,
   "metadata": {
    "collapsed": true
   },
   "outputs": [],
   "source": [
    "tfl = tf.TransformListener()"
   ]
  },
  {
   "cell_type": "code",
   "execution_count": 52,
   "metadata": {
    "collapsed": false
   },
   "outputs": [],
   "source": [
    "links = ['shoulder_center', 'head', 'left_elbow', 'left_hand', 'right_elbow', 'right_hand']\n",
    "bases = ['base', 'shoulder_center', 'shoulder_center', 'left_elbow', 'shoulder_center', 'right_elbow']\n",
    "joint_by_links = {}\n",
    "for l in links:\n",
    "    joint_by_links[l] = human.joint_by_links[l]\n",
    "for s in ['right', 'left']:\n",
    "    joint_by_links[s + '_elbow'] = human.joint_by_links[s + '_shoulder'] + joint_by_links[s + '_elbow']"
   ]
  },
  {
   "cell_type": "code",
   "execution_count": 53,
   "metadata": {
    "collapsed": false
   },
   "outputs": [],
   "source": [
    "nb_points = 10\n",
    "for i in range(len(links)):\n",
    "    create_database(links[i], bases[i], joint_by_links[links[i]], nb_points=nb_points)"
   ]
  },
  {
   "cell_type": "code",
   "execution_count": 38,
   "metadata": {
    "collapsed": false
   },
   "outputs": [
    {
     "name": "stdout",
     "output_type": "stream",
     "text": [
      "shoulder_center base\n",
      "head shoulder_center\n",
      "left_elbow shoulder_center\n",
      "left_hand left_elbow\n",
      "right_elbow shoulder_center\n",
      "right_hand right_elbow\n"
     ]
    }
   ],
   "source": [
    "state = human.get_random_state()\n",
    "human.send_state(state)\n",
    "fk_dict = {}\n",
    "for i in range(len(links)):\n",
    "    fk_dict[links[i]] = human.forward_kinematic(state, links=links[i], base='/human/' + bases[i])"
   ]
  },
  {
   "cell_type": "code",
   "execution_count": 39,
   "metadata": {
    "collapsed": false
   },
   "outputs": [
    {
     "data": {
      "text/plain": [
       "{'head': {'head': [[0.05529082788342368,\n",
       "    -0.05155591857592216,\n",
       "    0.29166287857268525],\n",
       "   [0.11374117245569702,\n",
       "    0.16532749504328564,\n",
       "    -0.14431226049422652,\n",
       "    0.9689704518416247]]},\n",
       " 'left_elbow': {'left_elbow': [[-0.30053076410134644,\n",
       "    0.2240666211193762,\n",
       "    0.036142759508728806],\n",
       "   [-0.5826834966923797,\n",
       "    -0.4102918224280323,\n",
       "    0.05709294061402436,\n",
       "    0.6992002283059332]]},\n",
       " 'left_hand': {'left_hand': [[0.2739546946062508,\n",
       "    0.0034040552829809334,\n",
       "    0.0998817628135768],\n",
       "   [0.2608463808881614,\n",
       "    -0.6384763413052102,\n",
       "    0.2738510269421283,\n",
       "    0.6703079458083449]]},\n",
       " 'right_elbow': {'right_elbow': [[0.28965067264322114,\n",
       "    -0.0831004496447179,\n",
       "    -0.027082233637601316],\n",
       "   [0.06298635361683091,\n",
       "    -0.09945101772054202,\n",
       "    0.9840597322205032,\n",
       "    -0.13329912885880185]]},\n",
       " 'right_hand': {'right_hand': [[0.35870716866831653,\n",
       "    0.01667764088090376,\n",
       "    0.04402868552006045],\n",
       "   [0.021080654443818632,\n",
       "    -0.22500449887012774,\n",
       "    0.09086819323404415,\n",
       "    0.9698822366425749]]},\n",
       " 'shoulder_center': {'shoulder_center': [[-0.2054484698452629,\n",
       "    -0.14013544404341494,\n",
       "    0.1875778182686454],\n",
       "   [0.16337260613679605,\n",
       "    -0.520293328054053,\n",
       "    0.24318622787672298,\n",
       "    0.8021625165249244]]}}"
      ]
     },
     "execution_count": 39,
     "metadata": {},
     "output_type": "execute_result"
    }
   ],
   "source": [
    "fk_dict"
   ]
  },
  {
   "cell_type": "code",
   "execution_count": 40,
   "metadata": {
    "collapsed": false
   },
   "outputs": [
    {
     "data": {
      "text/plain": [
       "((0.055290827883423654, -0.05155591857592212, 0.2916628785726854),\n",
       " (0.11374117245569691,\n",
       "  0.1653274950432856,\n",
       "  -0.14431226049422646,\n",
       "  0.9689704518416247))"
      ]
     },
     "execution_count": 40,
     "metadata": {},
     "output_type": "execute_result"
    }
   ],
   "source": [
    "tfl.lookupTransform('/human/shoulder_center', '/human/head', rospy.Time(0))"
   ]
  },
  {
   "cell_type": "code",
   "execution_count": 41,
   "metadata": {
    "collapsed": false
   },
   "outputs": [
    {
     "data": {
      "text/plain": [
       "{'head': [[0.05529082788342368, -0.05155591857592216, 0.29166287857268525],\n",
       "  [0.11374117245569702,\n",
       "   0.16532749504328564,\n",
       "   -0.14431226049422652,\n",
       "   0.9689704518416247]]}"
      ]
     },
     "execution_count": 41,
     "metadata": {},
     "output_type": "execute_result"
    }
   ],
   "source": [
    "human.forward_kinematic(state, links='head', base='/human/shoulder_center')"
   ]
  },
  {
   "cell_type": "code",
   "execution_count": 45,
   "metadata": {
    "collapsed": false
   },
   "outputs": [
    {
     "data": {
      "text/plain": [
       "header: \n",
       "  seq: 13\n",
       "  stamp: \n",
       "    secs: 0\n",
       "    nsecs:         0\n",
       "  frame_id: /base\n",
       "name: ['spine_0', 'spine_1', 'spine_2', 'left_shoulder_0', 'left_shoulder_1', 'left_shoulder_2', 'left_elbow_0', 'left_elbow_1', 'left_wrist_0', 'left_wrist_1', 'neck_0', 'neck_1', 'neck_2', 'right_shoulder_0', 'right_shoulder_1', 'right_shoulder_2', 'right_elbow_0', 'right_elbow_1', 'right_wrist_0', 'right_wrist_1', 'left_hip_0', 'left_hip_1', 'left_hip_2', 'left_knee', 'left_ankle_0', 'left_ankle_1', 'right_hip_0', 'right_hip_1', 'right_hip_2', 'right_knee', 'right_ankle_0', 'right_ankle_1']\n",
       "position: [0.9042984746069891, -0.8560502221309025, 1.0248573999126211, -0.8248428403897154, 1.369296585403056, 0.0754428557775284, -2.0865234447395764, -2.147290412407697, 0.7757021372945434, -1.5221629033442836, 0.28375957195284296, 0.29168496283144574, -0.33764962651832864, -0.18065921706669097, 1.9061405701528722, 0.8252420582987425, 3.0782930887261837, 0.43529694841374245, 0.18683445687186429, -0.45591813705899975, 1.03950455338531, -0.67692136220401, 0.49692551704370524, -0.9107794341815905, -0.7534693618895005, -1.4775189482016373, -0.40890528891103006, -0.9314102950316208, -0.5930401067504333, -2.2613271743520915, 0.8427064547894738, -0.792266252175587]\n",
       "velocity: []\n",
       "effort: []"
      ]
     },
     "execution_count": 45,
     "metadata": {},
     "output_type": "execute_result"
    }
   ],
   "source": [
    "state"
   ]
  },
  {
   "cell_type": "code",
   "execution_count": 50,
   "metadata": {
    "collapsed": false
   },
   "outputs": [
    {
     "data": {
      "text/plain": [
       "0.9042984746069891"
      ]
     },
     "execution_count": 50,
     "metadata": {},
     "output_type": "execute_result"
    }
   ],
   "source": [
    "state.position[state.name.index('spine_0')]"
   ]
  },
  {
   "cell_type": "code",
   "execution_count": null,
   "metadata": {
    "collapsed": true
   },
   "outputs": [],
   "source": []
  }
 ],
 "metadata": {
  "kernelspec": {
   "display_name": "Python 2",
   "language": "python",
   "name": "python2"
  },
  "language_info": {
   "codemirror_mode": {
    "name": "ipython",
    "version": 2
   },
   "file_extension": ".py",
   "mimetype": "text/x-python",
   "name": "python",
   "nbconvert_exporter": "python",
   "pygments_lexer": "ipython2",
   "version": "2.7.6"
  }
 },
 "nbformat": 4,
 "nbformat_minor": 0
}
