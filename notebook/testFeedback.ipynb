{
 "cells": [
  {
   "cell_type": "code",
   "execution_count": 1,
   "metadata": {
    "collapsed": false
   },
   "outputs": [],
   "source": [
    "import rospy\n",
    "from human_moveit_config.human_model import HumanModel\n",
    "from sensor_msgs.msg import JointState\n",
    "from os.path import join\n",
    "import json\n",
    "from rospkg import RosPack\n",
    "from baxter_commander.persistence import dicttostate\n",
    "import re\n",
    "\n",
    "import plotly.plotly as py\n",
    "import plotly.graph_objs as go\n",
    "import pandas as pd\n",
    "import numpy as np\n",
    "\n",
    "from tools.unity_bridge import UnityBridge \n",
    "from copy import deepcopy\n",
    "from trajectories.joint_trajectories import trapezoidal_speed_trajectory \n",
    "from copy import deepcopy"
   ]
  },
  {
   "cell_type": "code",
   "execution_count": 2,
   "metadata": {
    "collapsed": false
   },
   "outputs": [],
   "source": [
    "rospy.init_node('testFeedback')"
   ]
  },
  {
   "cell_type": "code",
   "execution_count": 3,
   "metadata": {
    "collapsed": true
   },
   "outputs": [],
   "source": [
    "bridge = UnityBridge()"
   ]
  },
  {
   "cell_type": "code",
   "execution_count": 4,
   "metadata": {
    "collapsed": false
   },
   "outputs": [],
   "source": [
    "rospack = RosPack()\n",
    "postures_file = join(rospack.get_path('reba_optim'), 'tmp', 'postures.json')\n",
    "with open(postures_file) as datafile:\n",
    "    postures_data = json.load(datafile)"
   ]
  },
  {
   "cell_type": "code",
   "execution_count": 5,
   "metadata": {
    "collapsed": false
   },
   "outputs": [],
   "source": [
    "pub = rospy.Publisher('reba_assess', JointState, queue_size=10)"
   ]
  },
  {
   "cell_type": "code",
   "execution_count": 6,
   "metadata": {
    "collapsed": false
   },
   "outputs": [],
   "source": [
    "human = HumanModel(control=True)"
   ]
  },
  {
   "cell_type": "code",
   "execution_count": 7,
   "metadata": {
    "collapsed": false
   },
   "outputs": [],
   "source": [
    "rate = rospy.Rate(10)"
   ]
  },
  {
   "cell_type": "code",
   "execution_count": 8,
   "metadata": {
    "collapsed": false,
    "scrolled": true
   },
   "outputs": [],
   "source": [
    "####### RESET MODEL ########\n",
    "T_state = human.get_initial_state()\n",
    "human.send_state(T_state)\n",
    "bridge.send_state(T_state)"
   ]
  },
  {
   "cell_type": "code",
   "execution_count": null,
   "metadata": {
    "collapsed": false
   },
   "outputs": [],
   "source": [
    "####### CLASS STATE TEST #######\n",
    "nb_state = 4\n",
    "class_value = 1\n",
    "states = postures_data[class_value - 1]\n",
    "\n",
    "s = states[nb_state]\n",
    "goal_state = dicttostate(s).joint_state\n",
    "human.send_state(goal_state) \n",
    "bridge.send_state(goal_state)"
   ]
  },
  {
   "cell_type": "code",
   "execution_count": null,
   "metadata": {
    "collapsed": false
   },
   "outputs": [],
   "source": [
    "jt = trapezoidal_speed_trajectory(T_state, goal_state, 1, 0.2, 10)"
   ]
  },
  {
   "cell_type": "code",
   "execution_count": null,
   "metadata": {
    "collapsed": false
   },
   "outputs": [],
   "source": [
    "for p in jt.points:\n",
    "    state = JointState()\n",
    "    state.name = jt.joint_names\n",
    "    state.position = p.positions\n",
    "    human.send_state(state)\n",
    "    bridge.send_state(state)\n",
    "    rate.sleep()"
   ]
  },
  {
   "cell_type": "code",
   "execution_count": null,
   "metadata": {
    "collapsed": false
   },
   "outputs": [],
   "source": [
    "listFeedback = ['spine', 'neck', 'left_shoulder', 'right_shoulder',\n",
    "                'left_elbow', 'right_elbow', 'left_wrist', 'right_wrist']\n",
    "feedbackValue = {f: np.random.rand() for f in listFeedback}\n",
    "bridge.activate_risk_frames(feedbackValue)"
   ]
  },
  {
   "cell_type": "code",
   "execution_count": null,
   "metadata": {
    "collapsed": false
   },
   "outputs": [],
   "source": [
    "prev_state = dicttostate(states[0]).joint_state\n",
    "prev_state.position = [0] * len(prev_state.name)\n",
    "for s in states:\n",
    "    new_state = dicttostate(s).joint_state\n",
    "    path = trapezoidal_speed_trajectory(new_state, prev_state, 1, 0.2, 10)\n",
    "    for p in path.points:\n",
    "        state = JointState()\n",
    "        state.name = path.joint_names\n",
    "        state.position = p.positions\n",
    "        human.send_state(state)\n",
    "        bridge.send_state(state)\n",
    "        rate.sleep()\n",
    "    prev_state = new_state"
   ]
  },
  {
   "cell_type": "code",
   "execution_count": 11,
   "metadata": {
    "collapsed": true
   },
   "outputs": [],
   "source": [
    "joints = ['left_shoulder_0', 'left_elbow_0', 'right_shoulder_2', 'right_elbow_0', 'neck_2', 'right_wrist_1']\n",
    "values = [1.12, -1.12, 0.78, 1.75, -0.3, -1.12]"
   ]
  },
  {
   "cell_type": "code",
   "execution_count": 12,
   "metadata": {
    "collapsed": false
   },
   "outputs": [],
   "source": [
    "new_state = deepcopy(T_state)\n",
    "for i in range(len(joints)):\n",
    "    new_state.position[new_state.name.index(joints[i])] = values[i]\n",
    "path = trapezoidal_speed_trajectory(new_state, T_state, 1, 0.2)\n",
    "for p in path.points:\n",
    "    state = JointState()\n",
    "    state.name = path.joint_names\n",
    "    state.position = p.positions\n",
    "    human.send_state(state)\n",
    "    bridge.send_state(state)\n",
    "    rate.sleep()"
   ]
  },
  {
   "cell_type": "code",
   "execution_count": 13,
   "metadata": {
    "collapsed": false
   },
   "outputs": [],
   "source": [
    "new_state = deepcopy(T_state)\n",
    "for i in range(len(joints)):\n",
    "    new_state.position[new_state.name.index(joints[i])] = values[i]\n",
    "human.send_state(new_state)\n",
    "bridge.send_state(new_state)"
   ]
  },
  {
   "cell_type": "code",
   "execution_count": null,
   "metadata": {
    "collapsed": false
   },
   "outputs": [],
   "source": [
    "bridge.activate_model(0)"
   ]
  },
  {
   "cell_type": "code",
   "execution_count": null,
   "metadata": {
    "collapsed": true
   },
   "outputs": [],
   "source": []
  }
 ],
 "metadata": {
  "kernelspec": {
   "display_name": "Python 2",
   "language": "python",
   "name": "python2"
  },
  "language_info": {
   "codemirror_mode": {
    "name": "ipython",
    "version": 2
   },
   "file_extension": ".py",
   "mimetype": "text/x-python",
   "name": "python",
   "nbconvert_exporter": "python",
   "pygments_lexer": "ipython2",
   "version": "2.7.6"
  }
 },
 "nbformat": 4,
 "nbformat_minor": 0
}
