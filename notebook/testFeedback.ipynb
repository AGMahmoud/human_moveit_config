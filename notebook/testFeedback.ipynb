{
 "cells": [
  {
   "cell_type": "code",
   "execution_count": 19,
   "metadata": {
    "collapsed": true
   },
   "outputs": [],
   "source": [
    "import rospy\n",
    "from human_moveit_config.human_model import HumanModel\n",
    "from sensor_msgs.msg import JointState\n",
    "from os.path import join\n",
    "import json\n",
    "from rospkg import RosPack\n",
    "from baxter_commander.persistence import dicttostate"
   ]
  },
  {
   "cell_type": "code",
   "execution_count": 11,
   "metadata": {
    "collapsed": false
   },
   "outputs": [],
   "source": [
    "rospy.init_node('testFeedback')"
   ]
  },
  {
   "cell_type": "code",
   "execution_count": 30,
   "metadata": {
    "collapsed": false
   },
   "outputs": [],
   "source": [
    "rospack = RosPack()\n",
    "postures_file = join(rospack.get_path('reba_optim'), 'tmp', 'postures.json')\n",
    "with open(postures_file) as datafile:\n",
    "    postures_data = json.load(datafile)"
   ]
  },
  {
   "cell_type": "code",
   "execution_count": 3,
   "metadata": {
    "collapsed": false
   },
   "outputs": [],
   "source": [
    "pub = rospy.Publisher('reba_assess', JointState, queue_size=10)"
   ]
  },
  {
   "cell_type": "code",
   "execution_count": 4,
   "metadata": {
    "collapsed": false
   },
   "outputs": [],
   "source": [
    "human = HumanModel(control=True)"
   ]
  },
  {
   "cell_type": "code",
   "execution_count": 5,
   "metadata": {
    "collapsed": true
   },
   "outputs": [],
   "source": [
    "rate = rospy.Rate(10)"
   ]
  },
  {
   "cell_type": "code",
   "execution_count": 58,
   "metadata": {
    "collapsed": false
   },
   "outputs": [],
   "source": [
    "####### SINGLE STATE TEST #######\n",
    "state = human.get_random_state()\n",
    "human.send_state(state)\n",
    "for i in range(100):\n",
    "    pub.publish(state)\n",
    "    rate.sleep()"
   ]
  },
  {
   "cell_type": "code",
   "execution_count": null,
   "metadata": {
    "collapsed": false
   },
   "outputs": [],
   "source": [
    "####### RANDOM STATE TEST #######\n",
    "for i in range(10000):\n",
    "    state = human.get_random_state()\n",
    "    human.send_state(state)\n",
    "    pub.publish(state)\n",
    "    rate.sleep()"
   ]
  },
  {
   "cell_type": "code",
   "execution_count": 66,
   "metadata": {
    "collapsed": true
   },
   "outputs": [],
   "source": [
    "####### RESET MODEL ########\n",
    "state = human.get_initial_state()\n",
    "human.send_state(state)"
   ]
  },
  {
   "cell_type": "code",
   "execution_count": 64,
   "metadata": {
    "collapsed": false
   },
   "outputs": [],
   "source": [
    "####### CLASS STATE TEST #######\n",
    "class_value = 10\n",
    "states = postures_data[class_value - 1]\n",
    "for s in states:\n",
    "    state = dicttostate(s).joint_state\n",
    "    human.send_state(state)\n",
    "    pub.publish(state)\n",
    "    rate.sleep()"
   ]
  },
  {
   "cell_type": "code",
   "execution_count": null,
   "metadata": {
    "collapsed": true
   },
   "outputs": [],
   "source": []
  }
 ],
 "metadata": {
  "kernelspec": {
   "display_name": "Python 2",
   "language": "python",
   "name": "python2"
  },
  "language_info": {
   "codemirror_mode": {
    "name": "ipython",
    "version": 2
   },
   "file_extension": ".py",
   "mimetype": "text/x-python",
   "name": "python",
   "nbconvert_exporter": "python",
   "pygments_lexer": "ipython2",
   "version": "2.7.6"
  }
 },
 "nbformat": 4,
 "nbformat_minor": 0
}
