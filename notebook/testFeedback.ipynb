{
 "cells": [
  {
   "cell_type": "code",
   "execution_count": 1,
   "metadata": {
    "collapsed": true
   },
   "outputs": [],
   "source": [
    "import rospy\n",
    "from human_moveit_config.human_model import HumanModel\n",
    "from sensor_msgs.msg import JointState\n",
    "from os.path import join\n",
    "import json\n",
    "from rospkg import RosPack\n",
    "from baxter_commander.persistence import dicttostate\n",
    "import re\n",
    "\n",
    "import plotly.plotly as py\n",
    "import plotly.graph_objs as go\n",
    "import pandas as pd\n",
    "import numpy as np\n",
    "\n",
    "import socket\n",
    "import binascii\n",
    "import struct"
   ]
  },
  {
   "cell_type": "code",
   "execution_count": 2,
   "metadata": {
    "collapsed": false
   },
   "outputs": [],
   "source": [
    "rospy.init_node('testFeedback')"
   ]
  },
  {
   "cell_type": "code",
   "execution_count": 3,
   "metadata": {
    "collapsed": false
   },
   "outputs": [],
   "source": [
    "rospack = RosPack()\n",
    "postures_file = join(rospack.get_path('reba_optim'), 'tmp', 'postures.json')\n",
    "with open(postures_file) as datafile:\n",
    "    postures_data = json.load(datafile)"
   ]
  },
  {
   "cell_type": "code",
   "execution_count": 4,
   "metadata": {
    "collapsed": false
   },
   "outputs": [],
   "source": [
    "pub = rospy.Publisher('reba_assess', JointState, queue_size=10)"
   ]
  },
  {
   "cell_type": "code",
   "execution_count": 5,
   "metadata": {
    "collapsed": false
   },
   "outputs": [],
   "source": [
    "human = HumanModel(control=True)"
   ]
  },
  {
   "cell_type": "code",
   "execution_count": 6,
   "metadata": {
    "collapsed": false
   },
   "outputs": [],
   "source": [
    "rate = rospy.Rate(5)"
   ]
  },
  {
   "cell_type": "code",
   "execution_count": 7,
   "metadata": {
    "collapsed": false
   },
   "outputs": [],
   "source": [
    "####### SINGLE STATE TEST #######\n",
    "nb_states = 1\n",
    "state = human.get_random_state()\n",
    "human.send_state(state)\n",
    "for i in range(nb_states):\n",
    "    pub.publish(state)\n",
    "    rate.sleep()"
   ]
  },
  {
   "cell_type": "code",
   "execution_count": null,
   "metadata": {
    "collapsed": false
   },
   "outputs": [],
   "source": [
    "####### RANDOM STATE TEST #######\n",
    "for i in range(10000):\n",
    "    state = human.get_random_state()\n",
    "    human.send_state(state)\n",
    "    pub.publish(state)\n",
    "    rate.sleep()"
   ]
  },
  {
   "cell_type": "code",
   "execution_count": 9,
   "metadata": {
    "collapsed": true
   },
   "outputs": [],
   "source": [
    "####### RESET MODEL ########\n",
    "T_state = human.get_initial_state()\n",
    "human.send_state(T_state)"
   ]
  },
  {
   "cell_type": "code",
   "execution_count": 26,
   "metadata": {
    "collapsed": false
   },
   "outputs": [],
   "source": [
    "####### CLASS STATE TEST #######\n",
    "class_value = 1\n",
    "states = postures_data[class_value - 1]\n",
    "for s in states:\n",
    "    state = dicttostate(s).joint_state\n",
    "    human.send_state(state)\n",
    "    pub.publish(state)   \n",
    "    udp_send_state(state)\n",
    "\n",
    "    rate.sleep()"
   ]
  },
  {
   "cell_type": "code",
   "execution_count": null,
   "metadata": {
    "collapsed": true
   },
   "outputs": [],
   "source": []
  },
  {
   "cell_type": "code",
   "execution_count": 11,
   "metadata": {
    "collapsed": true
   },
   "outputs": [],
   "source": [
    "def send_joint(joint, value, port=5005):\n",
    "    vect = np.zeros(92)    \n",
    "    vect[joint] = value\n",
    "\n",
    "    string_pattern = ('f ' * 92)[:-1]\n",
    "    packer = struct.Struct(string_pattern)\n",
    "    packed_data = packer.pack(*vect)\n",
    "\n",
    "    sock = socket.socket(socket.AF_INET, # Internet\n",
    "                         socket.SOCK_DGRAM) # UDP\n",
    "    sock.sendto(packed_data, (\"BAXTERFLOWERS.local\", port))"
   ]
  },
  {
   "cell_type": "code",
   "execution_count": 19,
   "metadata": {
    "collapsed": true
   },
   "outputs": [],
   "source": [
    "def udp_send_state(joint_state, port=5005):\n",
    "    # create a vector of 92 elements\n",
    "    vect = np.zeros(92)\n",
    "    vect[0] = joint_state.position[joint_state.name.index('spine_1')]\n",
    "    vect[1] = joint_state.position[joint_state.name.index('spine_0')]\n",
    "    vect[2] = joint_state.position[joint_state.name.index('spine_2')]\n",
    "    \n",
    "    vect[6] = joint_state.position[joint_state.name.index('neck_1')]\n",
    "    vect[7] = joint_state.position[joint_state.name.index('neck_0')]\n",
    "    vect[8] = joint_state.position[joint_state.name.index('neck_2')]\n",
    "    \n",
    "    vect[21] = joint_state.position[joint_state.name.index('left_knee_0')]\n",
    "    vect[29] = joint_state.position[joint_state.name.index('right_knee_0')]\n",
    "    \n",
    "    vect[36] = -joint_state.position[joint_state.name.index('left_shoulder_0')]\n",
    "    vect[37] = joint_state.position[joint_state.name.index('left_shoulder_1')]\n",
    "    if 'left_shoulder_2' in joint_state.name:\n",
    "        vect[38] = -joint_state.position[joint_state.name.index('left_shoulder_2')]\n",
    "    \n",
    "    vect[39] = joint_state.position[joint_state.name.index('left_elbow_0')]\n",
    "    vect[40] = -joint_state.position[joint_state.name.index('left_wrist_2')]\n",
    "    vect[41] = -joint_state.position[joint_state.name.index('left_wrist_1')]\n",
    "    vect[42] = joint_state.position[joint_state.name.index('left_wrist_0')]\n",
    "    \n",
    "    vect[45] = -joint_state.position[joint_state.name.index('right_shoulder_0')]\n",
    "    vect[46] = -joint_state.position[joint_state.name.index('right_shoulder_1')]\n",
    "    if 'right_shoulder_2' in joint_state.name:\n",
    "        vect[47] = joint_state.position[joint_state.name.index('right_shoulder_2')]\n",
    "    \n",
    "    vect[48] = -joint_state.position[joint_state.name.index('right_elbow_0')]\n",
    "    vect[49] = -joint_state.position[joint_state.name.index('right_wrist_2')]\n",
    "    vect[50] = -joint_state.position[joint_state.name.index('right_wrist_1')]\n",
    "    vect[51] = joint_state.position[joint_state.name.index('right_wrist_0')]\n",
    "    \n",
    "    # offset at T pose\n",
    "    vect[18] += 0.6\n",
    "    vect[21] += 1.0\n",
    "    vect[26] += 0.6\n",
    "    vect[29] += 1.0\n",
    "    vect[36] += 0.4\n",
    "    vect[37] += 0.3\n",
    "    vect[39] += 1.0\n",
    "    vect[45] += 0.4\n",
    "    vect[46] += 0.3\n",
    "    vect[48] += 1.0\n",
    "    \n",
    "    vect[52] += -1.33\n",
    "    vect[53] += -0.29\n",
    "    vect[54] += 0.64\n",
    "    vect[55] += 0.64\n",
    "    vect[56] += 0.67\n",
    "    vect[57] += -0.46\n",
    "    vect[58] += 0.81\n",
    "    vect[59] += 0.81\n",
    "    vect[60] += 0.67\n",
    "    vect[61] += -0.61\n",
    "    vect[62] += 0.81\n",
    "    vect[63] += 0.81\n",
    "    vect[64] += 0.67\n",
    "    vect[65] += -0.61\n",
    "    vect[66] += 0.81\n",
    "    vect[67] += 0.81\n",
    "    vect[68] += 0.67\n",
    "    vect[69] += -0.46\n",
    "    vect[70] += 0.81\n",
    "    vect[71] += 0.81\n",
    "    vect[72] += -1.33\n",
    "    vect[73] += -0.29\n",
    "    vect[74] += 0.64\n",
    "    vect[75] += 0.64\n",
    "    vect[76] += 0.67\n",
    "    vect[77] += -0.46\n",
    "    vect[78] += 0.81\n",
    "    vect[79] += 0.81\n",
    "    vect[80] += 0.67\n",
    "    vect[81] += -0.61\n",
    "    vect[82] += 0.81\n",
    "    vect[83] += 0.81\n",
    "    vect[84] += 0.67\n",
    "    vect[85] += -0.61\n",
    "    vect[86] += 0.81\n",
    "    vect[87] += 0.81\n",
    "    vect[88] += 0.67\n",
    "    vect[89] += -0.46\n",
    "    vect[90] += 0.81\n",
    "    vect[91] += 0.81\n",
    "    \n",
    "    string_pattern = ('f ' * 92)[:-1]\n",
    "    packer = struct.Struct(string_pattern)\n",
    "    packed_data = packer.pack(*vect)\n",
    "\n",
    "    sock = socket.socket(socket.AF_INET, # Internet\n",
    "                         socket.SOCK_DGRAM) # UDP\n",
    "    sock.sendto(packed_data, (\"BAXTERFLOWERS.local\", port))"
   ]
  },
  {
   "cell_type": "code",
   "execution_count": 21,
   "metadata": {
    "collapsed": false
   },
   "outputs": [],
   "source": [
    "human.send_state(state)\n",
    "pub.publish(state)\n",
    "udp_send_state(state)"
   ]
  },
  {
   "cell_type": "code",
   "execution_count": 22,
   "metadata": {
    "collapsed": true
   },
   "outputs": [],
   "source": [
    "udp_send_state(T_state)"
   ]
  },
  {
   "cell_type": "code",
   "execution_count": null,
   "metadata": {
    "collapsed": false
   },
   "outputs": [],
   "source": [
    "state"
   ]
  },
  {
   "cell_type": "code",
   "execution_count": null,
   "metadata": {
    "collapsed": true
   },
   "outputs": [],
   "source": []
  },
  {
   "cell_type": "code",
   "execution_count": null,
   "metadata": {
    "collapsed": false
   },
   "outputs": [],
   "source": [
    "UDP_IP = \"BAXTERFLOWERS.local\"\n",
    "UDP_PORT = 5005\n",
    "MESSAGE = \"Hello, World!\"\n",
    "\n",
    "print \"UDP target IP:\", UDP_IP\n",
    "print \"UDP target port:\", UDP_PORT\n",
    "print \"message:\", MESSAGE\n",
    "\n",
    "sock = socket.socket(socket.AF_INET, # Internet\n",
    "                     socket.SOCK_DGRAM) # UDP\n",
    "sock.sendto(MESSAGE, (UDP_IP, UDP_PORT))"
   ]
  },
  {
   "cell_type": "code",
   "execution_count": null,
   "metadata": {
    "collapsed": false
   },
   "outputs": [],
   "source": [
    "for i in range(92):\n",
    "    send_joint(i, 1)\n",
    "    rospy.sleep(2)\n",
    "    print i"
   ]
  },
  {
   "cell_type": "code",
   "execution_count": null,
   "metadata": {
    "collapsed": false
   },
   "outputs": [],
   "source": [
    "send_joint(43, 1)"
   ]
  },
  {
   "cell_type": "code",
   "execution_count": null,
   "metadata": {
    "collapsed": true
   },
   "outputs": [],
   "source": []
  }
 ],
 "metadata": {
  "kernelspec": {
   "display_name": "Python 2",
   "language": "python",
   "name": "python2"
  },
  "language_info": {
   "codemirror_mode": {
    "name": "ipython",
    "version": 2
   },
   "file_extension": ".py",
   "mimetype": "text/x-python",
   "name": "python",
   "nbconvert_exporter": "python",
   "pygments_lexer": "ipython2",
   "version": "2.7.6"
  }
 },
 "nbformat": 4,
 "nbformat_minor": 0
}
