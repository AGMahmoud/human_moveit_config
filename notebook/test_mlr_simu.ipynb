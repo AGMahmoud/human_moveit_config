{
 "cells": [
  {
   "cell_type": "code",
   "execution_count": 21,
   "metadata": {
    "collapsed": false
   },
   "outputs": [
    {
     "name": "stderr",
     "output_type": "stream",
     "text": [
      "Using Theano backend.\n"
     ]
    }
   ],
   "source": [
    "import rospy\n",
    "import json\n",
    "from os.path import join\n",
    "from sensor_msgs.msg import JointState\n",
    "from moveit_msgs.msg import RobotState\n",
    "from human_moveit_config.human_model import HumanModel\n",
    "from math import sin\n",
    "from math import cos\n",
    "import numpy as np\n",
    "import tf\n",
    "from baxter_commander.commander import ArmCommander\n",
    "from baxter_commander.persistence import dicttotraj\n",
    "from reba_optim.reba_assess import RebaAssess"
   ]
  },
  {
   "cell_type": "code",
   "execution_count": 2,
   "metadata": {
    "collapsed": true
   },
   "outputs": [],
   "source": [
    "def quat_from_axis_angle(vect, angle):\n",
    "    factor = sin(angle / 2.0)\n",
    "    quat = factor * np.array(vect)\n",
    "    quat = np.append(quat, [cos(angle / 2.0)])\n",
    "    quat = quat / np.linalg.norm(quat)\n",
    "    return quat.tolist()"
   ]
  },
  {
   "cell_type": "code",
   "execution_count": 3,
   "metadata": {
    "collapsed": true
   },
   "outputs": [],
   "source": [
    "rospy.init_node('test_mlr_simu')"
   ]
  },
  {
   "cell_type": "code",
   "execution_count": 4,
   "metadata": {
    "collapsed": false
   },
   "outputs": [],
   "source": [
    "pub = tf.TransformBroadcaster()"
   ]
  },
  {
   "cell_type": "code",
   "execution_count": 5,
   "metadata": {
    "collapsed": false
   },
   "outputs": [],
   "source": [
    "model = HumanModel(control=True)"
   ]
  },
  {
   "cell_type": "code",
   "execution_count": 22,
   "metadata": {
    "collapsed": true
   },
   "outputs": [],
   "source": [
    "reba = RebaAssess()"
   ]
  },
  {
   "cell_type": "code",
   "execution_count": 6,
   "metadata": {
    "collapsed": false
   },
   "outputs": [],
   "source": [
    "#right = ArmCommander(\"right\")"
   ]
  },
  {
   "cell_type": "code",
   "execution_count": 7,
   "metadata": {
    "collapsed": false
   },
   "outputs": [],
   "source": [
    "#left = ArmCommander(\"left\")"
   ]
  },
  {
   "cell_type": "code",
   "execution_count": 8,
   "metadata": {
    "collapsed": false
   },
   "outputs": [],
   "source": [
    "dirname = join('/home', 'buschbapti', 'Documents', 'mlr', 'share', 'projects', '17-LGP-comfort', 'data')"
   ]
  },
  {
   "cell_type": "code",
   "execution_count": 9,
   "metadata": {
    "collapsed": true
   },
   "outputs": [],
   "source": [
    "simuname = 'test2'"
   ]
  },
  {
   "cell_type": "code",
   "execution_count": 29,
   "metadata": {
    "collapsed": false
   },
   "outputs": [],
   "source": [
    "with open(join(dirname, simuname, 'human_traj.json')) as datafile:\n",
    "    human_traj = json.load(datafile)"
   ]
  },
  {
   "cell_type": "code",
   "execution_count": 30,
   "metadata": {
    "collapsed": false
   },
   "outputs": [],
   "source": [
    "with open(join(dirname, simuname, 'right_robot_traj.json')) as datafile:\n",
    "    r_robot_traj = json.load(datafile)"
   ]
  },
  {
   "cell_type": "code",
   "execution_count": 31,
   "metadata": {
    "collapsed": true
   },
   "outputs": [],
   "source": [
    "with open(join(dirname, simuname, 'left_robot_traj.json')) as datafile:\n",
    "    l_robot_traj = json.load(datafile)"
   ]
  },
  {
   "cell_type": "code",
   "execution_count": 32,
   "metadata": {
    "collapsed": true
   },
   "outputs": [],
   "source": [
    "rate = rospy.Rate(5)"
   ]
  },
  {
   "cell_type": "code",
   "execution_count": 33,
   "metadata": {
    "collapsed": true
   },
   "outputs": [],
   "source": [
    "human_pose = [[1.4, 0.0, 0.0], quat_from_axis_angle([0, 0, 1], np.pi)]"
   ]
  },
  {
   "cell_type": "code",
   "execution_count": 34,
   "metadata": {
    "collapsed": true
   },
   "outputs": [],
   "source": [
    "#right_traj = dicttotraj(r_robot_traj)\n",
    "#right.display(right_traj)"
   ]
  },
  {
   "cell_type": "code",
   "execution_count": 35,
   "metadata": {
    "collapsed": true
   },
   "outputs": [],
   "source": [
    "#left_traj = dicttotraj(l_robot_traj)\n",
    "#left.display(left_traj)"
   ]
  },
  {
   "cell_type": "code",
   "execution_count": 36,
   "metadata": {
    "collapsed": true
   },
   "outputs": [],
   "source": [
    "traj_modified = False"
   ]
  },
  {
   "cell_type": "code",
   "execution_count": 37,
   "metadata": {
    "collapsed": false
   },
   "outputs": [],
   "source": [
    "human_js = JointState()\n",
    "human_js.name = human_traj['joint_names']\n",
    "for i in range(len(human_traj['points'])):\n",
    "    point = human_traj['points'][i]\n",
    "    human_js.position = point['positions']\n",
    "    model.send_state(human_js)\n",
    "    pub.sendTransform(human_pose[0], human_pose[1], rospy.Time.now(), 'base', 'human/base')\n",
    "    if 'posture_score' not in point.keys():\n",
    "        score = reba.assess_posture(human_js, 'neural_network')\n",
    "        point['posture_score'] = score\n",
    "        traj_modified = True\n",
    "    rate.sleep()"
   ]
  },
  {
   "cell_type": "code",
   "execution_count": 39,
   "metadata": {
    "collapsed": false
   },
   "outputs": [
    {
     "name": "stderr",
     "output_type": "stream",
     "text": [
      "[WARN] [WallTime: 1494340077.137421] Inbound TCP/IP connection failed: connection from sender terminated before handshake header received. 0 bytes were received. Please check sender for additional details.\n",
      "[WARN] [WallTime: 1494340087.742553] Inbound TCP/IP connection failed: connection from sender terminated before handshake header received. 0 bytes were received. Please check sender for additional details.\n"
     ]
    }
   ],
   "source": [
    "if traj_modified:\n",
    "    with open(join(dirname, simuname, 'human_traj.json'), 'w') as outfile:\n",
    "        json.dump(human_traj, outfile, indent=4)"
   ]
  },
  {
   "cell_type": "code",
   "execution_count": null,
   "metadata": {
    "collapsed": true
   },
   "outputs": [],
   "source": []
  }
 ],
 "metadata": {
  "kernelspec": {
   "display_name": "Python 2",
   "language": "python",
   "name": "python2"
  },
  "language_info": {
   "codemirror_mode": {
    "name": "ipython",
    "version": 2
   },
   "file_extension": ".py",
   "mimetype": "text/x-python",
   "name": "python",
   "nbconvert_exporter": "python",
   "pygments_lexer": "ipython2",
   "version": "2.7.6"
  }
 },
 "nbformat": 4,
 "nbformat_minor": 0
}
