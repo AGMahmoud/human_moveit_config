{
 "cells": [
  {
   "cell_type": "code",
   "execution_count": 1,
   "metadata": {
    "collapsed": true
   },
   "outputs": [],
   "source": [
    "import tf\n",
    "import rospy\n",
    "import json\n",
    "import rospkg\n",
    "import transformations\n",
    "import numpy as np"
   ]
  },
  {
   "cell_type": "code",
   "execution_count": 2,
   "metadata": {
    "collapsed": false
   },
   "outputs": [],
   "source": [
    "def frame_publisher(rec_skeleton, sensor, sensor_key):\n",
    "    tfb = tf.TransformBroadcaster()\n",
    "    rospy.sleep(1)\n",
    "    rate = rospy.Rate(10)\n",
    "    while not rospy.is_shutdown():\n",
    "        for key in rec_skeleton.keys():\n",
    "            if key != 'human/base':\n",
    "                tfb.sendTransform(rec_skeleton[key][0], rec_skeleton[key][1], rospy.Time.now(),\n",
    "                                  sensor_key + '/' + key, sensor_key + '/human/base') \n",
    "            else:\n",
    "                tfb.sendTransform(rec_skeleton[key][0], rec_skeleton[key][1], rospy.Time.now(),\n",
    "                                  sensor_key + '/' + key, '/' + sensor+ '_frame')\n",
    "            rate.sleep()"
   ]
  },
  {
   "cell_type": "code",
   "execution_count": 3,
   "metadata": {
    "collapsed": false
   },
   "outputs": [],
   "source": [
    "rospy.init_node('test_calibration')"
   ]
  },
  {
   "cell_type": "code",
   "execution_count": 4,
   "metadata": {
    "collapsed": false
   },
   "outputs": [],
   "source": [
    "rospack = rospkg.RosPack()"
   ]
  },
  {
   "cell_type": "code",
   "execution_count": 5,
   "metadata": {
    "collapsed": false
   },
   "outputs": [],
   "source": [
    "sensor = 'optitrack'"
   ]
  },
  {
   "cell_type": "code",
   "execution_count": 6,
   "metadata": {
    "collapsed": true
   },
   "outputs": [],
   "source": [
    "sensor_key = 'opt'"
   ]
  },
  {
   "cell_type": "code",
   "execution_count": 17,
   "metadata": {
    "collapsed": false
   },
   "outputs": [],
   "source": [
    "skeleton_file = rospack.get_path(\"human_moveit_config\")+'/tmp/N_skeleton.json'\n",
    "# read the T pose from human\n",
    "with open(skeleton_file) as data_file:\n",
    "    data_skeletons = json.load(data_file)\n",
    "skeleton = data_skeletons[sensor_key]"
   ]
  },
  {
   "cell_type": "code",
   "execution_count": null,
   "metadata": {
    "collapsed": false
   },
   "outputs": [],
   "source": [
    "frame_publisher(skeleton, sensor, sensor_key)"
   ]
  },
  {
   "cell_type": "code",
   "execution_count": 76,
   "metadata": {
    "collapsed": true
   },
   "outputs": [],
   "source": [
    "a = np.array([0.99708186, 0.98019226, 0.99630254, -0.98449468])"
   ]
  },
  {
   "cell_type": "code",
   "execution_count": 77,
   "metadata": {
    "collapsed": false
   },
   "outputs": [
    {
     "data": {
      "text/plain": [
       "array([ 0.50380822,  0.4952742 ,  0.50341444, -0.49744814])"
      ]
     },
     "execution_count": 77,
     "metadata": {},
     "output_type": "execute_result"
    },
    {
     "name": "stderr",
     "output_type": "stream",
     "text": [
      "[WARN] [WallTime: 1488460916.463004] Inbound TCP/IP connection failed: connection from sender terminated before handshake header received. 0 bytes were received. Please check sender for additional details.\n",
      "[WARN] [WallTime: 1488460955.846328] Inbound TCP/IP connection failed: connection from sender terminated before handshake header received. 0 bytes were received. Please check sender for additional details.\n"
     ]
    }
   ],
   "source": [
    "a / np.linalg.norm(a)"
   ]
  },
  {
   "cell_type": "code",
   "execution_count": null,
   "metadata": {
    "collapsed": true
   },
   "outputs": [],
   "source": [
    "[\n",
    "                0.5038082209807601, \n",
    "                0.49527419591288413, \n",
    "                0.5034144460708176, \n",
    "                -0.49744813078577305\n",
    "            ]"
   ]
  }
 ],
 "metadata": {
  "kernelspec": {
   "display_name": "Python 2",
   "language": "python",
   "name": "python2"
  },
  "language_info": {
   "codemirror_mode": {
    "name": "ipython",
    "version": 2
   },
   "file_extension": ".py",
   "mimetype": "text/x-python",
   "name": "python",
   "nbconvert_exporter": "python",
   "pygments_lexer": "ipython2",
   "version": "2.7.6"
  }
 },
 "nbformat": 4,
 "nbformat_minor": 0
}
